{
 "cells": [
  {
   "cell_type": "markdown",
   "id": "14b2c4ab",
   "metadata": {},
   "source": []
  },
  {
   "cell_type": "code",
   "execution_count": 2,
   "id": "6894c578",
   "metadata": {},
   "outputs": [],
   "source": [
    "import random # for generating random sample transactions\n",
    "import pandas as pd  # for working with dataframes\n",
    "from mlxtend.preprocessing import TransactionEncoder # for one-hot encoding\n",
    "from mlxtend.frequent_patterns import apriori, association_rules # for mining itemsets and rules\n",
    "\n"
   ]
  },
  {
   "cell_type": "code",
   "execution_count": 3,
   "id": "9f31540f",
   "metadata": {},
   "outputs": [
    {
     "name": "stdout",
     "output_type": "stream",
     "text": [
      "Sample Clothing Transactions:\n",
      "Transaction 1: ['Sweater', 'Sneakers']\n",
      "Transaction 2: ['T-Shirt', 'Sweater', 'Jeans', 'Cap', 'Scarf']\n",
      "Transaction 3: ['T-Shirt', 'Socks', 'Scarf', 'Sweater']\n",
      "Transaction 4: ['Sweater', 'Scarf', 'Jeans', 'T-Shirt', 'Socks']\n",
      "Transaction 5: ['Jeans', 'Sneakers', 'Jacket']\n",
      "Transaction 6: ['Sneakers', 'Jeans', 'Socks']\n",
      "Transaction 7: ['Sneakers', 'Socks']\n",
      "Transaction 8: ['Sneakers', 'Scarf', 'Cap', 'Socks', 'Sweater']\n",
      "Transaction 9: ['Cap', 'Jeans', 'Sweater']\n",
      "Transaction 10: ['Socks', 'Sweater', 'Sneakers', 'Scarf']\n"
     ]
    }
   ],
   "source": [
    "# Step 1: Simulate clothing transactions\n",
    "item_pool = ['T-Shirt', 'Jeans', 'Sneakers', 'Jacket', 'Cap', 'Socks', 'Sweater', 'Scarf']\n",
    "transactions = [random.sample(item_pool, random.randint(2, 5)) for _ in range(10)]\n",
    "\n",
    "print(\"Sample Clothing Transactions:\")\n",
    "for i, t in enumerate(transactions, 1):\n",
    "    print(f\"Transaction {i}: {t}\")\n",
    "\n"
   ]
  },
  {
   "cell_type": "code",
   "execution_count": 4,
   "id": "0754bf7a",
   "metadata": {},
   "outputs": [],
   "source": [
    "# Step 2: One-hot encode\n",
    "te = TransactionEncoder()\n",
    "te_ary = te.fit(transactions).transform(transactions)\n",
    "df = pd.DataFrame(te_ary, columns=te.columns_)\n",
    "\n"
   ]
  },
  {
   "cell_type": "code",
   "execution_count": 5,
   "id": "ecae75d3",
   "metadata": {},
   "outputs": [
    {
     "name": "stdout",
     "output_type": "stream",
     "text": [
      "\n",
      "Frequent Itemsets:\n",
      "    support                   itemsets\n",
      "0       0.3                      (Cap)\n",
      "1       0.5                    (Jeans)\n",
      "2       0.5                    (Scarf)\n",
      "3       0.6                 (Sneakers)\n",
      "4       0.6                    (Socks)\n",
      "5       0.7                  (Sweater)\n",
      "6       0.3                  (T-Shirt)\n",
      "7       0.3             (Cap, Sweater)\n",
      "8       0.3           (Sweater, Jeans)\n",
      "9       0.4             (Socks, Scarf)\n",
      "10      0.5           (Sweater, Scarf)\n",
      "11      0.3           (T-Shirt, Scarf)\n",
      "12      0.4          (Sneakers, Socks)\n",
      "13      0.3        (Sneakers, Sweater)\n",
      "14      0.4           (Sweater, Socks)\n",
      "15      0.3         (Sweater, T-Shirt)\n",
      "16      0.4    (Sweater, Socks, Scarf)\n",
      "17      0.3  (Sweater, T-Shirt, Scarf)\n"
     ]
    }
   ],
   "source": [
    "# Step 3: Apriori\n",
    "frequent_itemsets = apriori(df, min_support=0.3, use_colnames=True)\n",
    "print(\"\\nFrequent Itemsets:\")\n",
    "print(frequent_itemsets)\n",
    "\n"
   ]
  },
  {
   "cell_type": "code",
   "execution_count": 6,
   "id": "f076742a",
   "metadata": {},
   "outputs": [
    {
     "name": "stdout",
     "output_type": "stream",
     "text": [
      "\n",
      "Association Rules:\n",
      "           antecedents       consequents  support  confidence      lift\n",
      "0                (Cap)         (Sweater)      0.3    1.000000  1.428571\n",
      "1              (Scarf)           (Socks)      0.4    0.800000  1.333333\n",
      "2            (Sweater)           (Scarf)      0.5    0.714286  1.428571\n",
      "3              (Scarf)         (Sweater)      0.5    1.000000  1.428571\n",
      "4            (T-Shirt)           (Scarf)      0.3    1.000000  2.000000\n",
      "5            (T-Shirt)         (Sweater)      0.3    1.000000  1.428571\n",
      "6     (Sweater, Socks)           (Scarf)      0.4    1.000000  2.000000\n",
      "7     (Sweater, Scarf)           (Socks)      0.4    0.800000  1.333333\n",
      "8       (Socks, Scarf)         (Sweater)      0.4    1.000000  1.428571\n",
      "9              (Scarf)  (Sweater, Socks)      0.4    0.800000  2.000000\n",
      "10  (Sweater, T-Shirt)           (Scarf)      0.3    1.000000  2.000000\n",
      "11    (Scarf, T-Shirt)         (Sweater)      0.3    1.000000  1.428571\n",
      "12           (T-Shirt)  (Sweater, Scarf)      0.3    1.000000  2.000000\n"
     ]
    }
   ],
   "source": [
    "# Step 4: Association Rules\n",
    "rules = association_rules(frequent_itemsets, metric=\"confidence\", min_threshold=0.7)\n",
    "print(\"\\nAssociation Rules:\")\n",
    "print(rules[['antecedents', 'consequents', 'support', 'confidence', 'lift']])\n",
    "\n"
   ]
  },
  {
   "cell_type": "code",
   "execution_count": 7,
   "id": "1e9b32fd",
   "metadata": {},
   "outputs": [
    {
     "name": "stdout",
     "output_type": "stream",
     "text": [
      "\n",
      "Example Rule Explanation:\n",
      "If a customer buys ['Cap'], they are also likely to buy ['Sweater'] (Confidence = 1.00)\n"
     ]
    }
   ],
   "source": [
    "# Step 5: Print example rule explanation\n",
    "if not rules.empty:\n",
    "    example_rule = rules.iloc[0]\n",
    "    print(f\"\\nExample Rule Explanation:\")\n",
    "    print(f\"If a customer buys {list(example_rule['antecedents'])}, they are also likely to buy {list(example_rule['consequents'])} \"\n",
    "          f\"(Confidence = {example_rule['confidence']:.2f})\")"
   ]
  }
 ],
 "metadata": {
  "kernelspec": {
   "display_name": "Python 3",
   "language": "python",
   "name": "python3"
  },
  "language_info": {
   "codemirror_mode": {
    "name": "ipython",
    "version": 3
   },
   "file_extension": ".py",
   "mimetype": "text/x-python",
   "name": "python",
   "nbconvert_exporter": "python",
   "pygments_lexer": "ipython3",
   "version": "3.12.10"
  }
 },
 "nbformat": 4,
 "nbformat_minor": 5
}
